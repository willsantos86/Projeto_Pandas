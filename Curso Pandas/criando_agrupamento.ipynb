{
 "cells": [
  {
   "attachments": {},
   "cell_type": "markdown",
   "metadata": {},
   "source": [
    "# Relatório de Análise VII\n"
   ]
  },
  {
   "attachments": {},
   "cell_type": "markdown",
   "metadata": {},
   "source": [
    "## Criando Agrupamentos"
   ]
  },
  {
   "cell_type": "code",
   "execution_count": 1,
   "metadata": {},
   "outputs": [],
   "source": [
    "import pandas as pd"
   ]
  },
  {
   "cell_type": "code",
   "execution_count": 2,
   "metadata": {},
   "outputs": [],
   "source": [
    "dados = pd.read_csv('aluguel_residencial.csv', sep= ';')"
   ]
  },
  {
   "cell_type": "code",
   "execution_count": 4,
   "metadata": {},
   "outputs": [
    {
     "data": {
      "text/html": [
       "<div>\n",
       "<style scoped>\n",
       "    .dataframe tbody tr th:only-of-type {\n",
       "        vertical-align: middle;\n",
       "    }\n",
       "\n",
       "    .dataframe tbody tr th {\n",
       "        vertical-align: top;\n",
       "    }\n",
       "\n",
       "    .dataframe thead th {\n",
       "        text-align: right;\n",
       "    }\n",
       "</style>\n",
       "<table border=\"1\" class=\"dataframe\">\n",
       "  <thead>\n",
       "    <tr style=\"text-align: right;\">\n",
       "      <th></th>\n",
       "      <th>Tipo</th>\n",
       "      <th>Bairro</th>\n",
       "      <th>Quartos</th>\n",
       "      <th>Vagas</th>\n",
       "      <th>Suites</th>\n",
       "      <th>Area</th>\n",
       "      <th>Valor</th>\n",
       "      <th>Condominio</th>\n",
       "      <th>IPTU</th>\n",
       "      <th>Valor m2</th>\n",
       "      <th>Tipo Agregado</th>\n",
       "    </tr>\n",
       "  </thead>\n",
       "  <tbody>\n",
       "    <tr>\n",
       "      <th>0</th>\n",
       "      <td>Apartamento</td>\n",
       "      <td>Centro</td>\n",
       "      <td>1</td>\n",
       "      <td>0</td>\n",
       "      <td>0</td>\n",
       "      <td>15</td>\n",
       "      <td>800.0</td>\n",
       "      <td>390.0</td>\n",
       "      <td>20.0</td>\n",
       "      <td>53.33</td>\n",
       "      <td>Apartamento</td>\n",
       "    </tr>\n",
       "    <tr>\n",
       "      <th>1</th>\n",
       "      <td>Apartamento</td>\n",
       "      <td>Higienópolis</td>\n",
       "      <td>1</td>\n",
       "      <td>0</td>\n",
       "      <td>0</td>\n",
       "      <td>48</td>\n",
       "      <td>800.0</td>\n",
       "      <td>230.0</td>\n",
       "      <td>0.0</td>\n",
       "      <td>16.67</td>\n",
       "      <td>Apartamento</td>\n",
       "    </tr>\n",
       "    <tr>\n",
       "      <th>2</th>\n",
       "      <td>Apartamento</td>\n",
       "      <td>Cachambi</td>\n",
       "      <td>2</td>\n",
       "      <td>0</td>\n",
       "      <td>0</td>\n",
       "      <td>50</td>\n",
       "      <td>1300.0</td>\n",
       "      <td>301.0</td>\n",
       "      <td>17.0</td>\n",
       "      <td>26.00</td>\n",
       "      <td>Apartamento</td>\n",
       "    </tr>\n",
       "    <tr>\n",
       "      <th>3</th>\n",
       "      <td>Apartamento</td>\n",
       "      <td>Grajaú</td>\n",
       "      <td>2</td>\n",
       "      <td>1</td>\n",
       "      <td>0</td>\n",
       "      <td>70</td>\n",
       "      <td>1500.0</td>\n",
       "      <td>642.0</td>\n",
       "      <td>74.0</td>\n",
       "      <td>21.43</td>\n",
       "      <td>Apartamento</td>\n",
       "    </tr>\n",
       "    <tr>\n",
       "      <th>4</th>\n",
       "      <td>Apartamento</td>\n",
       "      <td>Lins de Vasconcelos</td>\n",
       "      <td>3</td>\n",
       "      <td>1</td>\n",
       "      <td>1</td>\n",
       "      <td>90</td>\n",
       "      <td>1500.0</td>\n",
       "      <td>455.0</td>\n",
       "      <td>14.0</td>\n",
       "      <td>16.67</td>\n",
       "      <td>Apartamento</td>\n",
       "    </tr>\n",
       "    <tr>\n",
       "      <th>5</th>\n",
       "      <td>Apartamento</td>\n",
       "      <td>Copacabana</td>\n",
       "      <td>1</td>\n",
       "      <td>0</td>\n",
       "      <td>1</td>\n",
       "      <td>40</td>\n",
       "      <td>2000.0</td>\n",
       "      <td>561.0</td>\n",
       "      <td>50.0</td>\n",
       "      <td>50.00</td>\n",
       "      <td>Apartamento</td>\n",
       "    </tr>\n",
       "    <tr>\n",
       "      <th>6</th>\n",
       "      <td>Apartamento</td>\n",
       "      <td>Freguesia (Jacarepaguá)</td>\n",
       "      <td>3</td>\n",
       "      <td>0</td>\n",
       "      <td>0</td>\n",
       "      <td>54</td>\n",
       "      <td>950.0</td>\n",
       "      <td>300.0</td>\n",
       "      <td>28.0</td>\n",
       "      <td>17.59</td>\n",
       "      <td>Apartamento</td>\n",
       "    </tr>\n",
       "    <tr>\n",
       "      <th>7</th>\n",
       "      <td>Apartamento</td>\n",
       "      <td>Barra da Tijuca</td>\n",
       "      <td>2</td>\n",
       "      <td>1</td>\n",
       "      <td>1</td>\n",
       "      <td>67</td>\n",
       "      <td>1700.0</td>\n",
       "      <td>589.0</td>\n",
       "      <td>147.0</td>\n",
       "      <td>25.37</td>\n",
       "      <td>Apartamento</td>\n",
       "    </tr>\n",
       "    <tr>\n",
       "      <th>8</th>\n",
       "      <td>Apartamento</td>\n",
       "      <td>Tijuca</td>\n",
       "      <td>2</td>\n",
       "      <td>1</td>\n",
       "      <td>0</td>\n",
       "      <td>110</td>\n",
       "      <td>1900.0</td>\n",
       "      <td>700.0</td>\n",
       "      <td>138.0</td>\n",
       "      <td>17.27</td>\n",
       "      <td>Apartamento</td>\n",
       "    </tr>\n",
       "    <tr>\n",
       "      <th>9</th>\n",
       "      <td>Apartamento</td>\n",
       "      <td>Olaria</td>\n",
       "      <td>3</td>\n",
       "      <td>1</td>\n",
       "      <td>0</td>\n",
       "      <td>68</td>\n",
       "      <td>1000.0</td>\n",
       "      <td>670.0</td>\n",
       "      <td>0.0</td>\n",
       "      <td>14.71</td>\n",
       "      <td>Apartamento</td>\n",
       "    </tr>\n",
       "  </tbody>\n",
       "</table>\n",
       "</div>"
      ],
      "text/plain": [
       "          Tipo                   Bairro  Quartos  Vagas  Suites  Area   Valor  \\\n",
       "0  Apartamento                   Centro        1      0       0    15   800.0   \n",
       "1  Apartamento             Higienópolis        1      0       0    48   800.0   \n",
       "2  Apartamento                 Cachambi        2      0       0    50  1300.0   \n",
       "3  Apartamento                   Grajaú        2      1       0    70  1500.0   \n",
       "4  Apartamento      Lins de Vasconcelos        3      1       1    90  1500.0   \n",
       "5  Apartamento               Copacabana        1      0       1    40  2000.0   \n",
       "6  Apartamento  Freguesia (Jacarepaguá)        3      0       0    54   950.0   \n",
       "7  Apartamento          Barra da Tijuca        2      1       1    67  1700.0   \n",
       "8  Apartamento                   Tijuca        2      1       0   110  1900.0   \n",
       "9  Apartamento                   Olaria        3      1       0    68  1000.0   \n",
       "\n",
       "   Condominio   IPTU  Valor m2 Tipo Agregado  \n",
       "0       390.0   20.0     53.33   Apartamento  \n",
       "1       230.0    0.0     16.67   Apartamento  \n",
       "2       301.0   17.0     26.00   Apartamento  \n",
       "3       642.0   74.0     21.43   Apartamento  \n",
       "4       455.0   14.0     16.67   Apartamento  \n",
       "5       561.0   50.0     50.00   Apartamento  \n",
       "6       300.0   28.0     17.59   Apartamento  \n",
       "7       589.0  147.0     25.37   Apartamento  \n",
       "8       700.0  138.0     17.27   Apartamento  \n",
       "9       670.0    0.0     14.71   Apartamento  "
      ]
     },
     "execution_count": 4,
     "metadata": {},
     "output_type": "execute_result"
    }
   ],
   "source": [
    "dados.head(10)"
   ]
  },
  {
   "cell_type": "code",
   "execution_count": 5,
   "metadata": {},
   "outputs": [
    {
     "data": {
      "text/plain": [
       "3465.402299430185"
      ]
     },
     "execution_count": 5,
     "metadata": {},
     "output_type": "execute_result"
    }
   ],
   "source": [
    "dados['Valor'].mean()"
   ]
  },
  {
   "cell_type": "code",
   "execution_count": 7,
   "metadata": {},
   "outputs": [],
   "source": [
    "bairros = ['Barra da Tijuca', 'Copacabana', 'Ipanema', 'Leblon', 'Botafogo', 'Flamengo', 'Tijuca']\n",
    "selecao = dados['Bairro'].isin(bairros)\n",
    "dados =dados[selecao]"
   ]
  },
  {
   "cell_type": "code",
   "execution_count": 9,
   "metadata": {},
   "outputs": [
    {
     "data": {
      "text/plain": [
       "5           Copacabana\n",
       "7      Barra da Tijuca\n",
       "8               Tijuca\n",
       "11             Ipanema\n",
       "14            Botafogo\n",
       "17              Leblon\n",
       "105           Flamengo\n",
       "Name: Bairro, dtype: object"
      ]
     },
     "execution_count": 9,
     "metadata": {},
     "output_type": "execute_result"
    }
   ],
   "source": [
    "dados['Bairro'].drop_duplicates()"
   ]
  },
  {
   "cell_type": "code",
   "execution_count": 10,
   "metadata": {},
   "outputs": [],
   "source": [
    "grupo_bairro = dados.groupby('Bairro')\n"
   ]
  },
  {
   "cell_type": "code",
   "execution_count": 11,
   "metadata": {},
   "outputs": [
    {
     "data": {
      "text/plain": [
       "pandas.core.groupby.generic.DataFrameGroupBy"
      ]
     },
     "execution_count": 11,
     "metadata": {},
     "output_type": "execute_result"
    }
   ],
   "source": [
    "type(grupo_bairro)"
   ]
  },
  {
   "cell_type": "code",
   "execution_count": 12,
   "metadata": {},
   "outputs": [
    {
     "data": {
      "text/plain": [
       "{'Barra da Tijuca': [7, 13, 19, 21, 24, 31, 44, 47, 51, 56, 60, 70, 81, 84, 86, 89, 98, 100, 114, 116, 118, 124, 130, 139, 142, 161, 167, 168, 177, 180, 182, 186, 207, 209, 220, 222, 227, 233, 254, 267, 273, 275, 281, 285, 290, 292, 300, 325, 326, 327, 328, 331, 339, 349, 350, 351, 359, 365, 373, 379, 381, 411, 412, 413, 418, 421, 423, 424, 446, 449, 451, 456, 469, 483, 486, 498, 500, 507, 528, 530, 532, 534, 542, 544, 547, 550, 560, 566, 584, 591, 593, 594, 596, 600, 601, 606, 608, 614, 615, 625, ...], 'Botafogo': [14, 35, 66, 67, 85, 91, 96, 102, 147, 151, 169, 269, 313, 314, 377, 399, 401, 416, 454, 496, 523, 548, 582, 589, 637, 664, 706, 766, 797, 826, 833, 849, 853, 861, 871, 890, 915, 918, 929, 947, 974, 985, 993, 1003, 1028, 1053, 1077, 1082, 1107, 1153, 1164, 1208, 1247, 1266, 1275, 1299, 1331, 1332, 1365, 1387, 1395, 1397, 1478, 1487, 1507, 1521, 1528, 1535, 1570, 1600, 1603, 1613, 1615, 1616, 1618, 1625, 1665, 1677, 1688, 1706, 1741, 1745, 1783, 1829, 1849, 1857, 1871, 1885, 1887, 1910, 1938, 1947, 1959, 2000, 2054, 2135, 2143, 2175, 2193, 2246, ...], 'Copacabana': [5, 15, 20, 69, 78, 83, 97, 107, 108, 109, 137, 144, 189, 199, 208, 211, 213, 219, 231, 237, 244, 257, 266, 272, 278, 279, 291, 297, 303, 329, 346, 366, 367, 376, 405, 408, 425, 431, 437, 445, 465, 468, 470, 473, 504, 509, 510, 519, 524, 526, 529, 533, 556, 562, 565, 595, 646, 672, 679, 689, 699, 709, 710, 715, 729, 737, 738, 750, 755, 763, 764, 775, 785, 789, 790, 800, 816, 823, 825, 854, 859, 866, 873, 874, 882, 887, 889, 898, 914, 934, 938, 946, 949, 956, 965, 972, 980, 996, 999, 1002, ...], 'Flamengo': [105, 165, 215, 239, 256, 264, 268, 276, 319, 323, 333, 360, 415, 443, 512, 552, 612, 661, 682, 686, 692, 740, 838, 862, 868, 921, 937, 941, 1035, 1065, 1068, 1150, 1161, 1169, 1177, 1185, 1224, 1226, 1283, 1345, 1347, 1405, 1413, 1522, 1550, 1555, 1574, 1722, 1755, 1763, 1795, 1813, 1881, 1956, 1957, 1965, 1968, 1987, 2010, 2035, 2103, 2107, 2152, 2155, 2222, 2232, 2263, 2277, 2291, 2306, 2351, 2389, 2401, 2419, 2421, 2429, 2464, 2530, 2550, 2578, 2636, 2642, 2652, 2658, 2664, 2720, 2773, 2795, 2800, 2837, 2866, 2899, 2968, 2994, 2999, 3010, 3022, 3088, 3125, 3135, ...], 'Ipanema': [11, 28, 29, 32, 39, 40, 55, 64, 121, 133, 163, 164, 174, 187, 203, 242, 249, 251, 277, 294, 304, 334, 369, 391, 398, 409, 435, 438, 439, 440, 442, 450, 452, 472, 480, 494, 495, 502, 514, 538, 540, 546, 551, 555, 557, 572, 573, 579, 583, 602, 624, 628, 639, 675, 683, 697, 698, 711, 714, 728, 752, 769, 779, 784, 788, 802, 803, 805, 807, 811, 830, 847, 865, 892, 907, 912, 932, 935, 950, 955, 958, 968, 979, 987, 988, 1009, 1018, 1030, 1032, 1047, 1048, 1059, 1074, 1076, 1089, 1098, 1119, 1138, 1158, 1188, ...], 'Leblon': [17, 43, 68, 73, 101, 125, 128, 166, 261, 262, 296, 306, 318, 337, 347, 352, 356, 375, 380, 457, 459, 462, 487, 503, 535, 541, 559, 575, 598, 604, 631, 638, 643, 644, 717, 734, 806, 812, 821, 843, 883, 886, 891, 909, 917, 970, 971, 976, 990, 991, 1019, 1042, 1073, 1075, 1078, 1144, 1173, 1178, 1183, 1214, 1239, 1240, 1259, 1261, 1274, 1290, 1319, 1334, 1335, 1344, 1369, 1455, 1461, 1515, 1518, 1524, 1531, 1540, 1560, 1633, 1651, 1704, 1736, 1765, 1809, 1814, 1819, 1834, 1845, 1919, 2047, 2075, 2105, 2112, 2119, 2156, 2183, 2210, 2256, 2302, ...], 'Tijuca': [8, 10, 12, 61, 62, 95, 110, 113, 120, 123, 132, 136, 138, 148, 153, 195, 248, 252, 263, 270, 330, 338, 355, 362, 382, 389, 402, 432, 434, 458, 460, 479, 485, 499, 516, 564, 569, 570, 587, 599, 607, 610, 611, 613, 623, 648, 650, 657, 671, 673, 681, 712, 725, 741, 746, 753, 756, 777, 786, 792, 813, 855, 902, 913, 957, 969, 1044, 1091, 1094, 1109, 1127, 1165, 1167, 1192, 1194, 1203, 1210, 1250, 1253, 1268, 1282, 1302, 1303, 1312, 1320, 1340, 1356, 1360, 1367, 1392, 1401, 1402, 1406, 1433, 1441, 1459, 1467, 1472, 1504, 1511, ...]}"
      ]
     },
     "execution_count": 12,
     "metadata": {},
     "output_type": "execute_result"
    }
   ],
   "source": [
    "grupo_bairro.groups "
   ]
  },
  {
   "attachments": {},
   "cell_type": "markdown",
   "metadata": {},
   "source": [
    "## Estatística Descritivas"
   ]
  },
  {
   "cell_type": "code",
   "execution_count": 13,
   "metadata": {},
   "outputs": [
    {
     "data": {
      "text/html": [
       "<div>\n",
       "<style scoped>\n",
       "    .dataframe tbody tr th:only-of-type {\n",
       "        vertical-align: middle;\n",
       "    }\n",
       "\n",
       "    .dataframe tbody tr th {\n",
       "        vertical-align: top;\n",
       "    }\n",
       "\n",
       "    .dataframe thead th {\n",
       "        text-align: right;\n",
       "    }\n",
       "</style>\n",
       "<table border=\"1\" class=\"dataframe\">\n",
       "  <thead>\n",
       "    <tr style=\"text-align: right;\">\n",
       "      <th></th>\n",
       "      <th>count</th>\n",
       "      <th>mean</th>\n",
       "      <th>std</th>\n",
       "      <th>min</th>\n",
       "      <th>25%</th>\n",
       "      <th>50%</th>\n",
       "      <th>75%</th>\n",
       "      <th>max</th>\n",
       "    </tr>\n",
       "    <tr>\n",
       "      <th>Bairro</th>\n",
       "      <th></th>\n",
       "      <th></th>\n",
       "      <th></th>\n",
       "      <th></th>\n",
       "      <th></th>\n",
       "      <th></th>\n",
       "      <th></th>\n",
       "      <th></th>\n",
       "    </tr>\n",
       "  </thead>\n",
       "  <tbody>\n",
       "    <tr>\n",
       "      <th>Barra da Tijuca</th>\n",
       "      <td>3383.0</td>\n",
       "      <td>5500.50</td>\n",
       "      <td>5123.02</td>\n",
       "      <td>800.0</td>\n",
       "      <td>2400.0</td>\n",
       "      <td>3700.0</td>\n",
       "      <td>6700.0</td>\n",
       "      <td>32000.0</td>\n",
       "    </tr>\n",
       "    <tr>\n",
       "      <th>Botafogo</th>\n",
       "      <td>849.0</td>\n",
       "      <td>3375.46</td>\n",
       "      <td>2015.90</td>\n",
       "      <td>700.0</td>\n",
       "      <td>2200.0</td>\n",
       "      <td>3000.0</td>\n",
       "      <td>4250.0</td>\n",
       "      <td>22000.0</td>\n",
       "    </tr>\n",
       "    <tr>\n",
       "      <th>Copacabana</th>\n",
       "      <td>2445.0</td>\n",
       "      <td>3351.52</td>\n",
       "      <td>1904.58</td>\n",
       "      <td>100.0</td>\n",
       "      <td>1915.0</td>\n",
       "      <td>2900.0</td>\n",
       "      <td>4200.0</td>\n",
       "      <td>9900.0</td>\n",
       "    </tr>\n",
       "    <tr>\n",
       "      <th>Flamengo</th>\n",
       "      <td>654.0</td>\n",
       "      <td>3220.12</td>\n",
       "      <td>1958.30</td>\n",
       "      <td>800.0</td>\n",
       "      <td>1800.0</td>\n",
       "      <td>2700.0</td>\n",
       "      <td>4000.0</td>\n",
       "      <td>9500.0</td>\n",
       "    </tr>\n",
       "    <tr>\n",
       "      <th>Ipanema</th>\n",
       "      <td>1227.0</td>\n",
       "      <td>5451.55</td>\n",
       "      <td>2093.76</td>\n",
       "      <td>1200.0</td>\n",
       "      <td>3759.0</td>\n",
       "      <td>5500.0</td>\n",
       "      <td>7000.0</td>\n",
       "      <td>9900.0</td>\n",
       "    </tr>\n",
       "    <tr>\n",
       "      <th>Leblon</th>\n",
       "      <td>890.0</td>\n",
       "      <td>5661.45</td>\n",
       "      <td>2746.71</td>\n",
       "      <td>100.0</td>\n",
       "      <td>3900.0</td>\n",
       "      <td>5000.0</td>\n",
       "      <td>7000.0</td>\n",
       "      <td>30000.0</td>\n",
       "    </tr>\n",
       "    <tr>\n",
       "      <th>Tijuca</th>\n",
       "      <td>1097.0</td>\n",
       "      <td>1999.94</td>\n",
       "      <td>1039.67</td>\n",
       "      <td>750.0</td>\n",
       "      <td>1500.0</td>\n",
       "      <td>1800.0</td>\n",
       "      <td>2300.0</td>\n",
       "      <td>19000.0</td>\n",
       "    </tr>\n",
       "  </tbody>\n",
       "</table>\n",
       "</div>"
      ],
      "text/plain": [
       "                  count     mean      std     min     25%     50%     75%  \\\n",
       "Bairro                                                                      \n",
       "Barra da Tijuca  3383.0  5500.50  5123.02   800.0  2400.0  3700.0  6700.0   \n",
       "Botafogo          849.0  3375.46  2015.90   700.0  2200.0  3000.0  4250.0   \n",
       "Copacabana       2445.0  3351.52  1904.58   100.0  1915.0  2900.0  4200.0   \n",
       "Flamengo          654.0  3220.12  1958.30   800.0  1800.0  2700.0  4000.0   \n",
       "Ipanema          1227.0  5451.55  2093.76  1200.0  3759.0  5500.0  7000.0   \n",
       "Leblon            890.0  5661.45  2746.71   100.0  3900.0  5000.0  7000.0   \n",
       "Tijuca           1097.0  1999.94  1039.67   750.0  1500.0  1800.0  2300.0   \n",
       "\n",
       "                     max  \n",
       "Bairro                    \n",
       "Barra da Tijuca  32000.0  \n",
       "Botafogo         22000.0  \n",
       "Copacabana        9900.0  \n",
       "Flamengo          9500.0  \n",
       "Ipanema           9900.0  \n",
       "Leblon           30000.0  \n",
       "Tijuca           19000.0  "
      ]
     },
     "execution_count": 13,
     "metadata": {},
     "output_type": "execute_result"
    }
   ],
   "source": [
    "grupo_bairro['Valor'].describe().round(2)"
   ]
  },
  {
   "cell_type": "code",
   "execution_count": 14,
   "metadata": {},
   "outputs": [
    {
     "data": {
      "text/html": [
       "<div>\n",
       "<style scoped>\n",
       "    .dataframe tbody tr th:only-of-type {\n",
       "        vertical-align: middle;\n",
       "    }\n",
       "\n",
       "    .dataframe tbody tr th {\n",
       "        vertical-align: top;\n",
       "    }\n",
       "\n",
       "    .dataframe thead th {\n",
       "        text-align: right;\n",
       "    }\n",
       "</style>\n",
       "<table border=\"1\" class=\"dataframe\">\n",
       "  <thead>\n",
       "    <tr style=\"text-align: right;\">\n",
       "      <th></th>\n",
       "      <th>Mínimo</th>\n",
       "      <th>Máximo</th>\n",
       "      <th>sum</th>\n",
       "    </tr>\n",
       "    <tr>\n",
       "      <th>Bairro</th>\n",
       "      <th></th>\n",
       "      <th></th>\n",
       "      <th></th>\n",
       "    </tr>\n",
       "  </thead>\n",
       "  <tbody>\n",
       "    <tr>\n",
       "      <th>Barra da Tijuca</th>\n",
       "      <td>800.0</td>\n",
       "      <td>32000.0</td>\n",
       "      <td>18608184.0</td>\n",
       "    </tr>\n",
       "    <tr>\n",
       "      <th>Botafogo</th>\n",
       "      <td>700.0</td>\n",
       "      <td>22000.0</td>\n",
       "      <td>2865766.0</td>\n",
       "    </tr>\n",
       "    <tr>\n",
       "      <th>Copacabana</th>\n",
       "      <td>100.0</td>\n",
       "      <td>9900.0</td>\n",
       "      <td>8194465.0</td>\n",
       "    </tr>\n",
       "    <tr>\n",
       "      <th>Flamengo</th>\n",
       "      <td>800.0</td>\n",
       "      <td>9500.0</td>\n",
       "      <td>2105958.0</td>\n",
       "    </tr>\n",
       "    <tr>\n",
       "      <th>Ipanema</th>\n",
       "      <td>1200.0</td>\n",
       "      <td>9900.0</td>\n",
       "      <td>6689051.0</td>\n",
       "    </tr>\n",
       "    <tr>\n",
       "      <th>Leblon</th>\n",
       "      <td>100.0</td>\n",
       "      <td>30000.0</td>\n",
       "      <td>5038694.0</td>\n",
       "    </tr>\n",
       "    <tr>\n",
       "      <th>Tijuca</th>\n",
       "      <td>750.0</td>\n",
       "      <td>19000.0</td>\n",
       "      <td>2193932.0</td>\n",
       "    </tr>\n",
       "  </tbody>\n",
       "</table>\n",
       "</div>"
      ],
      "text/plain": [
       "                 Mínimo   Máximo         sum\n",
       "Bairro                                      \n",
       "Barra da Tijuca   800.0  32000.0  18608184.0\n",
       "Botafogo          700.0  22000.0   2865766.0\n",
       "Copacabana        100.0   9900.0   8194465.0\n",
       "Flamengo          800.0   9500.0   2105958.0\n",
       "Ipanema          1200.0   9900.0   6689051.0\n",
       "Leblon            100.0  30000.0   5038694.0\n",
       "Tijuca            750.0  19000.0   2193932.0"
      ]
     },
     "execution_count": 14,
     "metadata": {},
     "output_type": "execute_result"
    }
   ],
   "source": [
    "grupo_bairro['Valor'].aggregate(['min', 'max', 'sum']).rename(columns= {'min': 'Mínimo','max': 'Máximo',})"
   ]
  },
  {
   "cell_type": "code",
   "execution_count": 17,
   "metadata": {},
   "outputs": [],
   "source": [
    "%matplotlib inline\n",
    "import matplotlib.pyplot as plt\n",
    "plt.rc('figure', figsize = (20,10))"
   ]
  },
  {
   "cell_type": "code",
   "execution_count": 20,
   "metadata": {},
   "outputs": [
    {
     "data": {
      "text/plain": [
       "Text(0.5, 1.0, 'Valor Médio do Aluguel por Bairro')"
      ]
     },
     "execution_count": 20,
     "metadata": {},
     "output_type": "execute_result"
    },
    {
     "data": {
      "image/png": "[encoded data removed]",
      "text/plain": [
       "<Figure size 2000x1000 with 1 Axes>"
      ]
     },
     "metadata": {},
     "output_type": "display_data"
    }
   ],
   "source": [
    "fig = grupo_bairro['Valor'].std().plot.bar(color= 'blue')\n",
    "fig.set_ylabel('Valor do Aluguel')\n",
    "fig.set_title('Valor Médio do Aluguel por Bairro', {'fontsize':22})"
   ]
  },
  {
   "cell_type": "code",
   "execution_count": null,
   "metadata": {},
   "outputs": [],
   "source": []
  }
 ],
 "metadata": {
  "kernelspec": {
   "display_name": "Python 3",
   "language": "python",
   "name": "python3"
  },
  "language_info": {
   "codemirror_mode": {
    "name": "ipython",
    "version": 3
   },
   "file_extension": ".py",
   "mimetype": "text/x-python",
   "name": "python",
   "nbconvert_exporter": "python",
   "pygments_lexer": "ipython3",
   "version": "3.10.6"
  },
  "orig_nbformat": 4,
  "vscode": {
   "interpreter": {
    "hash": "916dbcbb3f70747c44a77c7bcd40155683ae19c65e1c03b4aa3499c5328201f1"
   }
  }
 },
 "nbformat": 4,
 "nbformat_minor": 2
}
